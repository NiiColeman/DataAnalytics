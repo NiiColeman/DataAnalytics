{
 "cells": [
  {
   "cell_type": "code",
   "execution_count": 1,
   "id": "special-replication",
   "metadata": {},
   "outputs": [
    {
     "name": "stdout",
     "output_type": "stream",
     "text": [
      "Requirement already satisfied: pyspark in c:\\users\\niico\\.conda\\envs\\dsenv\\lib\\site-packages (3.0.1)\n",
      "Requirement already satisfied: py4j==0.10.9 in c:\\users\\niico\\.conda\\envs\\dsenv\\lib\\site-packages (from pyspark) (0.10.9)\n"
     ]
    }
   ],
   "source": [
    "!pip install pyspark \n",
    "# install pyspark and its dependencies"
   ]
  },
  {
   "cell_type": "code",
   "execution_count": null,
   "id": "general-providence",
   "metadata": {},
   "outputs": [],
   "source": []
  },
  {
   "cell_type": "markdown",
   "id": "cooperative-spain",
   "metadata": {},
   "source": [
    "# LOAD AND CLEAN DATA"
   ]
  },
  {
   "cell_type": "code",
   "execution_count": 2,
   "id": "linear-monkey",
   "metadata": {},
   "outputs": [],
   "source": [
    "import numpy as np\n",
    "import pandas as pd \n",
    "import matplotlib.pyplot as plt \n",
    "import seaborn as sns\n"
   ]
  },
  {
   "cell_type": "code",
   "execution_count": 3,
   "id": "placed-pension",
   "metadata": {},
   "outputs": [],
   "source": [
    "from pyspark.sql import SparkSession\n",
    "spark= SparkSession.builder.appName('spark').getOrCreate()"
   ]
  },
  {
   "cell_type": "code",
   "execution_count": 4,
   "id": "designing-territory",
   "metadata": {},
   "outputs": [
    {
     "data": {
      "text/html": [
       "\n",
       "            <div>\n",
       "                <p><b>SparkSession - in-memory</b></p>\n",
       "                \n",
       "        <div>\n",
       "            <p><b>SparkContext</b></p>\n",
       "\n",
       "            <p><a href=\"http://LAPTOP-VHQRRVE5:4040\">Spark UI</a></p>\n",
       "\n",
       "            <dl>\n",
       "              <dt>Version</dt>\n",
       "                <dd><code>v3.0.1</code></dd>\n",
       "              <dt>Master</dt>\n",
       "                <dd><code>local[*]</code></dd>\n",
       "              <dt>AppName</dt>\n",
       "                <dd><code>spark</code></dd>\n",
       "            </dl>\n",
       "        </div>\n",
       "        \n",
       "            </div>\n",
       "        "
      ],
      "text/plain": [
       "<pyspark.sql.session.SparkSession at 0x227146fe128>"
      ]
     },
     "execution_count": 4,
     "metadata": {},
     "output_type": "execute_result"
    }
   ],
   "source": [
    "spark\n",
    "#check spark session"
   ]
  },
  {
   "cell_type": "code",
   "execution_count": 5,
   "id": "fifty-amendment",
   "metadata": {},
   "outputs": [],
   "source": [
    "#load dataset\n",
    "data=pd.read_csv('room_booking.csv')\n",
    "data=data.drop(['Unnamed: 0','aulaId'],axis=1)\n",
    "df=spark.createDataFrame(data)"
   ]
  },
  {
   "cell_type": "code",
   "execution_count": 6,
   "id": "becoming-musical",
   "metadata": {},
   "outputs": [
    {
     "data": {
      "text/html": [
       "<div>\n",
       "<style scoped>\n",
       "    .dataframe tbody tr th:only-of-type {\n",
       "        vertical-align: middle;\n",
       "    }\n",
       "\n",
       "    .dataframe tbody tr th {\n",
       "        vertical-align: top;\n",
       "    }\n",
       "\n",
       "    .dataframe thead th {\n",
       "        text-align: right;\n",
       "    }\n",
       "</style>\n",
       "<table border=\"1\" class=\"dataframe\">\n",
       "  <thead>\n",
       "    <tr style=\"text-align: right;\">\n",
       "      <th></th>\n",
       "      <th>room</th>\n",
       "      <th>date_x</th>\n",
       "      <th>Sede</th>\n",
       "      <th>aulaDes</th>\n",
       "      <th>capienza</th>\n",
       "      <th>poloDes</th>\n",
       "      <th>bookings</th>\n",
       "    </tr>\n",
       "  </thead>\n",
       "  <tbody>\n",
       "    <tr>\n",
       "      <th>0</th>\n",
       "      <td>5f5bd5fafc7a3450ea06e81c</td>\n",
       "      <td>2020-11-08 17:10:20.328000+00:00</td>\n",
       "      <td>1</td>\n",
       "      <td>112</td>\n",
       "      <td>11</td>\n",
       "      <td>26</td>\n",
       "      <td>26</td>\n",
       "    </tr>\n",
       "    <tr>\n",
       "      <th>1</th>\n",
       "      <td>5f5bd5fafc7a3450ea06e81c</td>\n",
       "      <td>2020-11-09 08:18:33.344000+00:00</td>\n",
       "      <td>1</td>\n",
       "      <td>112</td>\n",
       "      <td>11</td>\n",
       "      <td>26</td>\n",
       "      <td>38</td>\n",
       "    </tr>\n",
       "    <tr>\n",
       "      <th>2</th>\n",
       "      <td>5f5bd5fafc7a3450ea06e81c</td>\n",
       "      <td>2020-11-12 07:45:37.079000+00:00</td>\n",
       "      <td>1</td>\n",
       "      <td>112</td>\n",
       "      <td>11</td>\n",
       "      <td>26</td>\n",
       "      <td>21</td>\n",
       "    </tr>\n",
       "    <tr>\n",
       "      <th>3</th>\n",
       "      <td>5f5bd5fafc7a3450ea06e81c</td>\n",
       "      <td>2020-11-12 09:00:15.960000+00:00</td>\n",
       "      <td>1</td>\n",
       "      <td>112</td>\n",
       "      <td>11</td>\n",
       "      <td>26</td>\n",
       "      <td>31</td>\n",
       "    </tr>\n",
       "    <tr>\n",
       "      <th>4</th>\n",
       "      <td>5f5bd5fafc7a3450ea06e81c</td>\n",
       "      <td>2020-11-13 07:55:08.231000+00:00</td>\n",
       "      <td>1</td>\n",
       "      <td>112</td>\n",
       "      <td>11</td>\n",
       "      <td>26</td>\n",
       "      <td>23</td>\n",
       "    </tr>\n",
       "    <tr>\n",
       "      <th>...</th>\n",
       "      <td>...</td>\n",
       "      <td>...</td>\n",
       "      <td>...</td>\n",
       "      <td>...</td>\n",
       "      <td>...</td>\n",
       "      <td>...</td>\n",
       "      <td>...</td>\n",
       "    </tr>\n",
       "    <tr>\n",
       "      <th>189</th>\n",
       "      <td>5f5cc686fc7a3450ea06e837</td>\n",
       "      <td>2020-12-18 09:34:41.628000+00:00</td>\n",
       "      <td>4</td>\n",
       "      <td>114</td>\n",
       "      <td>4</td>\n",
       "      <td>9</td>\n",
       "      <td>1</td>\n",
       "    </tr>\n",
       "    <tr>\n",
       "      <th>190</th>\n",
       "      <td>5f5b4fdd400b9fbfbe0b8eee</td>\n",
       "      <td>2020-11-24 11:31:47.928000+00:00</td>\n",
       "      <td>2</td>\n",
       "      <td>58</td>\n",
       "      <td>31</td>\n",
       "      <td>4</td>\n",
       "      <td>1</td>\n",
       "    </tr>\n",
       "    <tr>\n",
       "      <th>191</th>\n",
       "      <td>5f5cc627fc7a3450ea06e836</td>\n",
       "      <td>2020-11-26 17:25:37.632000+00:00</td>\n",
       "      <td>2</td>\n",
       "      <td>114</td>\n",
       "      <td>3</td>\n",
       "      <td>20</td>\n",
       "      <td>1</td>\n",
       "    </tr>\n",
       "    <tr>\n",
       "      <th>192</th>\n",
       "      <td>5f5b4fdd400b9fbfbe0b8efd</td>\n",
       "      <td>2020-12-01 14:13:23.390000+00:00</td>\n",
       "      <td>2</td>\n",
       "      <td>67</td>\n",
       "      <td>42</td>\n",
       "      <td>4</td>\n",
       "      <td>2</td>\n",
       "    </tr>\n",
       "    <tr>\n",
       "      <th>193</th>\n",
       "      <td>5f5b4fdd400b9fbfbe0b8ef0</td>\n",
       "      <td>2020-12-09 10:06:46.329000+00:00</td>\n",
       "      <td>2</td>\n",
       "      <td>30</td>\n",
       "      <td>13</td>\n",
       "      <td>4</td>\n",
       "      <td>1</td>\n",
       "    </tr>\n",
       "  </tbody>\n",
       "</table>\n",
       "<p>194 rows × 7 columns</p>\n",
       "</div>"
      ],
      "text/plain": [
       "                         room                            date_x  Sede  \\\n",
       "0    5f5bd5fafc7a3450ea06e81c  2020-11-08 17:10:20.328000+00:00     1   \n",
       "1    5f5bd5fafc7a3450ea06e81c  2020-11-09 08:18:33.344000+00:00     1   \n",
       "2    5f5bd5fafc7a3450ea06e81c  2020-11-12 07:45:37.079000+00:00     1   \n",
       "3    5f5bd5fafc7a3450ea06e81c  2020-11-12 09:00:15.960000+00:00     1   \n",
       "4    5f5bd5fafc7a3450ea06e81c  2020-11-13 07:55:08.231000+00:00     1   \n",
       "..                        ...                               ...   ...   \n",
       "189  5f5cc686fc7a3450ea06e837  2020-12-18 09:34:41.628000+00:00     4   \n",
       "190  5f5b4fdd400b9fbfbe0b8eee  2020-11-24 11:31:47.928000+00:00     2   \n",
       "191  5f5cc627fc7a3450ea06e836  2020-11-26 17:25:37.632000+00:00     2   \n",
       "192  5f5b4fdd400b9fbfbe0b8efd  2020-12-01 14:13:23.390000+00:00     2   \n",
       "193  5f5b4fdd400b9fbfbe0b8ef0  2020-12-09 10:06:46.329000+00:00     2   \n",
       "\n",
       "     aulaDes  capienza  poloDes  bookings  \n",
       "0        112        11       26        26  \n",
       "1        112        11       26        38  \n",
       "2        112        11       26        21  \n",
       "3        112        11       26        31  \n",
       "4        112        11       26        23  \n",
       "..       ...       ...      ...       ...  \n",
       "189      114         4        9         1  \n",
       "190       58        31        4         1  \n",
       "191      114         3       20         1  \n",
       "192       67        42        4         2  \n",
       "193       30        13        4         1  \n",
       "\n",
       "[194 rows x 7 columns]"
      ]
     },
     "execution_count": 6,
     "metadata": {},
     "output_type": "execute_result"
    }
   ],
   "source": [
    "df.toPandas()\n",
    "#show dataframe"
   ]
  },
  {
   "cell_type": "code",
   "execution_count": 9,
   "id": "suspected-bargain",
   "metadata": {},
   "outputs": [
    {
     "name": "stdout",
     "output_type": "stream",
     "text": [
      "194 7\n"
     ]
    }
   ],
   "source": [
    "#get the no.of rows & columns\n",
    "print(df.count(),len(df.columns))\n",
    "\n"
   ]
  },
  {
   "cell_type": "code",
   "execution_count": 10,
   "id": "lightweight-savannah",
   "metadata": {},
   "outputs": [
    {
     "name": "stdout",
     "output_type": "stream",
     "text": [
      "room: 0\n",
      "date_x: 0\n",
      "Sede: 0\n",
      "aulaDes: 0\n",
      "capienza: 0\n",
      "poloDes: 0\n",
      "bookings: 0\n"
     ]
    }
   ],
   "source": [
    "for i in df.columns:\n",
    "  print(i+\":\",df[df[i].isNull()].count())"
   ]
  },
  {
   "cell_type": "markdown",
   "id": "continued-wednesday",
   "metadata": {},
   "source": [
    "# DATA INSIGHTS"
   ]
  },
  {
   "cell_type": "code",
   "execution_count": 11,
   "id": "friendly-substance",
   "metadata": {},
   "outputs": [
    {
     "name": "stdout",
     "output_type": "stream",
     "text": [
      "root\n",
      " |-- room: string (nullable = true)\n",
      " |-- date_x: string (nullable = true)\n",
      " |-- Sede: long (nullable = true)\n",
      " |-- aulaDes: long (nullable = true)\n",
      " |-- capienza: long (nullable = true)\n",
      " |-- poloDes: long (nullable = true)\n",
      " |-- bookings: long (nullable = true)\n",
      "\n"
     ]
    }
   ],
   "source": [
    "#print schema \n",
    "df.printSchema()"
   ]
  },
  {
   "cell_type": "code",
   "execution_count": 12,
   "id": "premium-titanium",
   "metadata": {},
   "outputs": [
    {
     "name": "stdout",
     "output_type": "stream",
     "text": [
      "+-------+--------------------+--------------------+------------------+------------------+------------------+------------------+------------------+\n",
      "|summary|                room|              date_x|              Sede|           aulaDes|          capienza|           poloDes|          bookings|\n",
      "+-------+--------------------+--------------------+------------------+------------------+------------------+------------------+------------------+\n",
      "|  count|                 194|                 194|               194|               194|               194|               194|               194|\n",
      "|   mean|                null|                null|1.3298969072164948| 100.9020618556701| 16.25257731958763|15.541237113402062| 16.74742268041237|\n",
      "| stddev|                null|                null|0.7647905939074074|27.937489360873137|10.778654715134167| 8.320699609103594|28.127450839568322|\n",
      "|    min|5f5b4fdd400b9fbfb...|2020-11-08 17:10:...|                 1|                30|                 3|                 1|                 0|\n",
      "|    max|5f5cc7f1fc7a3450e...|2020-12-21 00:20:...|                 4|               117|                42|                27|               120|\n",
      "+-------+--------------------+--------------------+------------------+------------------+------------------+------------------+------------------+\n",
      "\n"
     ]
    }
   ],
   "source": [
    "df.describe().show()"
   ]
  },
  {
   "cell_type": "markdown",
   "id": "geological-reason",
   "metadata": {},
   "source": [
    "# CORRELATION AND FEATURE SELECTION\n"
   ]
  },
  {
   "cell_type": "code",
   "execution_count": 13,
   "id": "thermal-negative",
   "metadata": {},
   "outputs": [
    {
     "data": {
      "text/html": [
       "<div>\n",
       "<style scoped>\n",
       "    .dataframe tbody tr th:only-of-type {\n",
       "        vertical-align: middle;\n",
       "    }\n",
       "\n",
       "    .dataframe tbody tr th {\n",
       "        vertical-align: top;\n",
       "    }\n",
       "\n",
       "    .dataframe thead th {\n",
       "        text-align: right;\n",
       "    }\n",
       "</style>\n",
       "<table border=\"1\" class=\"dataframe\">\n",
       "  <thead>\n",
       "    <tr style=\"text-align: right;\">\n",
       "      <th></th>\n",
       "      <th>Sede</th>\n",
       "      <th>aulaDes</th>\n",
       "      <th>capienza</th>\n",
       "      <th>poloDes</th>\n",
       "      <th>bookings</th>\n",
       "    </tr>\n",
       "  </thead>\n",
       "  <tbody>\n",
       "    <tr>\n",
       "      <th>Sede</th>\n",
       "      <td>1.000000</td>\n",
       "      <td>0.159388</td>\n",
       "      <td>-0.298662</td>\n",
       "      <td>-0.088456</td>\n",
       "      <td>-0.229743</td>\n",
       "    </tr>\n",
       "    <tr>\n",
       "      <th>aulaDes</th>\n",
       "      <td>0.159388</td>\n",
       "      <td>1.000000</td>\n",
       "      <td>-0.352391</td>\n",
       "      <td>0.519903</td>\n",
       "      <td>0.219002</td>\n",
       "    </tr>\n",
       "    <tr>\n",
       "      <th>capienza</th>\n",
       "      <td>-0.298662</td>\n",
       "      <td>-0.352391</td>\n",
       "      <td>1.000000</td>\n",
       "      <td>0.345158</td>\n",
       "      <td>0.623048</td>\n",
       "    </tr>\n",
       "    <tr>\n",
       "      <th>poloDes</th>\n",
       "      <td>-0.088456</td>\n",
       "      <td>0.519903</td>\n",
       "      <td>0.345158</td>\n",
       "      <td>1.000000</td>\n",
       "      <td>0.618346</td>\n",
       "    </tr>\n",
       "    <tr>\n",
       "      <th>bookings</th>\n",
       "      <td>-0.229743</td>\n",
       "      <td>0.219002</td>\n",
       "      <td>0.623048</td>\n",
       "      <td>0.618346</td>\n",
       "      <td>1.000000</td>\n",
       "    </tr>\n",
       "  </tbody>\n",
       "</table>\n",
       "</div>"
      ],
      "text/plain": [
       "              Sede   aulaDes  capienza   poloDes  bookings\n",
       "Sede      1.000000  0.159388 -0.298662 -0.088456 -0.229743\n",
       "aulaDes   0.159388  1.000000 -0.352391  0.519903  0.219002\n",
       "capienza -0.298662 -0.352391  1.000000  0.345158  0.623048\n",
       "poloDes  -0.088456  0.519903  0.345158  1.000000  0.618346\n",
       "bookings -0.229743  0.219002  0.623048  0.618346  1.000000"
      ]
     },
     "execution_count": 13,
     "metadata": {},
     "output_type": "execute_result"
    }
   ],
   "source": [
    "data.corr()"
   ]
  },
  {
   "cell_type": "code",
   "execution_count": 14,
   "id": "downtown-sigma",
   "metadata": {},
   "outputs": [
    {
     "data": {
      "text/plain": [
       "<AxesSubplot:>"
      ]
     },
     "execution_count": 14,
     "metadata": {},
     "output_type": "execute_result"
    },
    {
     "data": {
      "image/png": "[encoded data removed]",
      "text/plain": [
       "<Figure size 432x288 with 2 Axes>"
      ]
     },
     "metadata": {
      "needs_background": "light"
     },
     "output_type": "display_data"
    }
   ],
   "source": [
    "sns.heatmap(data.corr(),annot=True)"
   ]
  },
  {
   "cell_type": "code",
   "execution_count": 17,
   "id": "victorian-roommate",
   "metadata": {},
   "outputs": [],
   "source": [
    "# feature selection\n",
    "from pyspark.ml.feature import VectorAssembler\n",
    "assembler= VectorAssembler(inputCols=['poloDes','aulaDes','capienza'],outputCol='features')\n"
   ]
  },
  {
   "cell_type": "code",
   "execution_count": 18,
   "id": "chinese-bradford",
   "metadata": {},
   "outputs": [
    {
     "name": "stdout",
     "output_type": "stream",
     "text": [
      "+--------------------+--------------------+----+-------+--------+-------+--------+-----------------+\n",
      "|                room|              date_x|Sede|aulaDes|capienza|poloDes|bookings|         features|\n",
      "+--------------------+--------------------+----+-------+--------+-------+--------+-----------------+\n",
      "|5f5bd5fafc7a3450e...|2020-11-08 17:10:...|   1|    112|      11|     26|      26|[26.0,112.0,11.0]|\n",
      "|5f5bd5fafc7a3450e...|2020-11-09 08:18:...|   1|    112|      11|     26|      38|[26.0,112.0,11.0]|\n",
      "|5f5bd5fafc7a3450e...|2020-11-12 07:45:...|   1|    112|      11|     26|      21|[26.0,112.0,11.0]|\n",
      "|5f5bd5fafc7a3450e...|2020-11-12 09:00:...|   1|    112|      11|     26|      31|[26.0,112.0,11.0]|\n",
      "|5f5bd5fafc7a3450e...|2020-11-13 07:55:...|   1|    112|      11|     26|      23|[26.0,112.0,11.0]|\n",
      "|5f5bd5fafc7a3450e...|2020-11-16 17:14:...|   1|    112|      11|     26|      19|[26.0,112.0,11.0]|\n",
      "|5f5bd5fafc7a3450e...|2020-11-16 22:24:...|   1|    112|      11|     26|      32|[26.0,112.0,11.0]|\n",
      "|5f5bd5fafc7a3450e...|2020-11-19 06:15:...|   1|    112|      11|     26|      33|[26.0,112.0,11.0]|\n",
      "|5f5bd5fafc7a3450e...|2020-11-20 15:40:...|   1|    112|      11|     26|      28|[26.0,112.0,11.0]|\n",
      "|5f5bd5fafc7a3450e...|2020-11-23 07:42:...|   1|    112|      11|     26|      14|[26.0,112.0,11.0]|\n",
      "|5f5bd5fafc7a3450e...|2020-11-23 07:42:...|   1|    112|      11|     26|      16|[26.0,112.0,11.0]|\n",
      "|5f5bd5fafc7a3450e...|2020-11-25 03:39:...|   1|    112|      11|     26|      17|[26.0,112.0,11.0]|\n",
      "|5f5bd5fafc7a3450e...|2020-11-26 08:32:...|   1|    112|      11|     26|       9|[26.0,112.0,11.0]|\n",
      "|5f5bd5fafc7a3450e...|2020-11-27 08:48:...|   1|    112|      11|     26|      23|[26.0,112.0,11.0]|\n",
      "|5f5bd5fafc7a3450e...|2020-11-30 10:58:...|   1|    112|      11|     26|      17|[26.0,112.0,11.0]|\n",
      "|5f5bd5fafc7a3450e...|2020-12-01 15:50:...|   1|    112|      11|     26|       6|[26.0,112.0,11.0]|\n",
      "|5f5bd5fafc7a3450e...|2020-12-02 08:45:...|   1|    112|      11|     26|      16|[26.0,112.0,11.0]|\n",
      "|5f5bd5fafc7a3450e...|2020-12-03 18:48:...|   1|    112|      11|     26|      14|[26.0,112.0,11.0]|\n",
      "|5f5bd5fafc7a3450e...|2020-12-03 21:10:...|   1|    112|      11|     26|       6|[26.0,112.0,11.0]|\n",
      "|5f5bd5fafc7a3450e...|2020-12-07 06:51:...|   1|    112|      11|     26|      14|[26.0,112.0,11.0]|\n",
      "+--------------------+--------------------+----+-------+--------+-------+--------+-----------------+\n",
      "only showing top 20 rows\n",
      "\n"
     ]
    }
   ],
   "source": [
    "#display dataframe\n",
    "output_data= assembler.transform(df)\n",
    "#helps to produce a new column called features\n",
    "output_data.show()"
   ]
  },
  {
   "cell_type": "code",
   "execution_count": null,
   "id": "right-silence",
   "metadata": {},
   "outputs": [],
   "source": []
  },
  {
   "cell_type": "markdown",
   "id": "acute-range",
   "metadata": {},
   "source": [
    "# Build The Regression Model"
   ]
  },
  {
   "cell_type": "code",
   "execution_count": 31,
   "id": "chronic-respondent",
   "metadata": {},
   "outputs": [],
   "source": [
    "#import Linearregression and create final data\n"
   ]
  },
  {
   "cell_type": "code",
   "execution_count": 19,
   "id": "atmospheric-bloom",
   "metadata": {},
   "outputs": [],
   "source": [
    "from pyspark.ml.regression import LinearRegression\n",
    "final_data =output_data.select('features','bookings')"
   ]
  },
  {
   "cell_type": "code",
   "execution_count": 20,
   "id": "saving-kelly",
   "metadata": {},
   "outputs": [
    {
     "name": "stdout",
     "output_type": "stream",
     "text": [
      "root\n",
      " |-- features: vector (nullable = true)\n",
      " |-- bookings: long (nullable = true)\n",
      "\n"
     ]
    }
   ],
   "source": [
    "#print schema of final data\n",
    "final_data.printSchema()"
   ]
  },
  {
   "cell_type": "code",
   "execution_count": 21,
   "id": "informational-insulation",
   "metadata": {},
   "outputs": [],
   "source": [
    "#split the dataset into training and testing set\n",
    "train , test = final_data.randomSplit([0.7,0.3])"
   ]
  },
  {
   "cell_type": "code",
   "execution_count": 22,
   "id": "portable-accommodation",
   "metadata": {},
   "outputs": [],
   "source": [
    "#build & train the linear regression model\n",
    "models = LinearRegression(featuresCol='features',labelCol='bookings')\n",
    "model= models.fit(train)"
   ]
  },
  {
   "cell_type": "code",
   "execution_count": 23,
   "id": "selected-kentucky",
   "metadata": {},
   "outputs": [
    {
     "name": "stdout",
     "output_type": "stream",
     "text": [
      "coefficients: [0.617857248242524,0.3873817029213937,1.8221422526175588]\n",
      "intercept: -60.71502307990856\n"
     ]
    }
   ],
   "source": [
    "#get coefficients & intercept\n",
    "print('coefficients:',model.coefficients)\n",
    "print('intercept:',model.intercept)"
   ]
  },
  {
   "cell_type": "code",
   "execution_count": 24,
   "id": "inappropriate-resolution",
   "metadata": {},
   "outputs": [
    {
     "name": "stdout",
     "output_type": "stream",
     "text": [
      "RMSE 18.556423459913947\n",
      "R2 scrore: 0.6066008550382094\n"
     ]
    }
   ],
   "source": [
    "#get summary of the model\n",
    "summary=model.summary\n",
    "print('RMSE',summary.rootMeanSquaredError)\n",
    "#measure of how well a model performs, small rmse value is good\n",
    "print('R2 scrore:',summary.r2)\n",
    "#the better the R squared score the better the model fits the data"
   ]
  },
  {
   "cell_type": "markdown",
   "id": "united-pakistan",
   "metadata": {},
   "source": [
    "# Evaluate the model"
   ]
  },
  {
   "cell_type": "code",
   "execution_count": 25,
   "id": "extensive-naples",
   "metadata": {},
   "outputs": [],
   "source": [
    "\n",
    "\n",
    "#transform on the test data\n",
    "predictions=model.transform(test)\n"
   ]
  },
  {
   "cell_type": "code",
   "execution_count": 26,
   "id": "liquid-partition",
   "metadata": {},
   "outputs": [
    {
     "name": "stdout",
     "output_type": "stream",
     "text": [
      "+-----------------+--------+-------------------+\n",
      "|         features|bookings|         prediction|\n",
      "+-----------------+--------+-------------------+\n",
      "|[26.0,112.0,11.0]|       1|  18.77958088038629|\n",
      "|[26.0,112.0,11.0]|       6|  18.77958088038629|\n",
      "|[26.0,112.0,11.0]|       6|  18.77958088038629|\n",
      "|[26.0,112.0,11.0]|      13|  18.77958088038629|\n",
      "|[26.0,112.0,11.0]|      14|  18.77958088038629|\n",
      "|[26.0,112.0,11.0]|      14|  18.77958088038629|\n",
      "|[26.0,112.0,11.0]|      14|  18.77958088038629|\n",
      "|[26.0,112.0,11.0]|      16|  18.77958088038629|\n",
      "|[26.0,112.0,11.0]|      21|  18.77958088038629|\n",
      "|[26.0,112.0,11.0]|      26|  18.77958088038629|\n",
      "|[26.0,112.0,11.0]|      31|  18.77958088038629|\n",
      "|[10.0,115.0,10.0]|       1|  8.233867764652544|\n",
      "|[10.0,115.0,10.0]|       1|  8.233867764652544|\n",
      "|[26.0,112.0,11.0]|      16|  18.77958088038629|\n",
      "|[26.0,112.0,11.0]|      22|  18.77958088038629|\n",
      "|[27.0,113.0,35.0]|      69| 63.516233894371624|\n",
      "|[27.0,113.0,35.0]|      70| 63.516233894371624|\n",
      "|[27.0,113.0,35.0]|      14| 63.516233894371624|\n",
      "|[27.0,113.0,35.0]|      45| 63.516233894371624|\n",
      "|[27.0,113.0,35.0]|      57| 63.516233894371624|\n",
      "|[27.0,113.0,35.0]|      59| 63.516233894371624|\n",
      "|[27.0,113.0,35.0]|      75| 63.516233894371624|\n",
      "|[27.0,113.0,35.0]|      92| 63.516233894371624|\n",
      "|[27.0,113.0,35.0]|      93| 63.516233894371624|\n",
      "|[27.0,113.0,35.0]|      99| 63.516233894371624|\n",
      "|[12.0,116.0,10.0]|       2|  9.856963964058977|\n",
      "|[12.0,116.0,10.0]|       3|  9.856963964058977|\n",
      "|[12.0,116.0,10.0]|       4|  9.856963964058977|\n",
      "|[12.0,116.0,10.0]|       5|  9.856963964058977|\n",
      "|[12.0,116.0,10.0]|       5|  9.856963964058977|\n",
      "|[12.0,116.0,10.0]|       5|  9.856963964058977|\n",
      "|[12.0,116.0,10.0]|       6|  9.856963964058977|\n",
      "|[12.0,116.0,10.0]|       7|  9.856963964058977|\n",
      "|[12.0,116.0,10.0]|       8|  9.856963964058977|\n",
      "|[11.0,114.0,10.0]|       2|  8.464343309973671|\n",
      "|[11.0,114.0,10.0]|       4|  8.464343309973671|\n",
      "|[11.0,114.0,10.0]|      11|  8.464343309973671|\n",
      "|[12.0,116.0,10.0]|       1|  9.856963964058977|\n",
      "|[12.0,116.0,10.0]|       2|  9.856963964058977|\n",
      "|[17.0,111.0,12.0]|       1| 14.653626195899747|\n",
      "|[17.0,111.0,12.0]|       1| 14.653626195899747|\n",
      "|[17.0,111.0,12.0]|       1| 14.653626195899747|\n",
      "|[17.0,111.0,12.0]|       2| 14.653626195899747|\n",
      "|  [7.0,51.0,20.0]|       1|-0.1907104408686422|\n",
      "|  [7.0,51.0,20.0]|       9|-0.1907104408686422|\n",
      "|[11.0,114.0,10.0]|       4|  8.464343309973671|\n",
      "|[11.0,114.0,10.0]|       7|  8.464343309973671|\n",
      "|[11.0,114.0,10.0]|       7|  8.464343309973671|\n",
      "|[11.0,114.0,10.0]|       8|  8.464343309973671|\n",
      "|[11.0,114.0,10.0]|       8|  8.464343309973671|\n",
      "|[11.0,114.0,10.0]|      11|  8.464343309973671|\n",
      "|[11.0,114.0,10.0]|      13|  8.464343309973671|\n",
      "|[11.0,114.0,10.0]|      14|  8.464343309973671|\n",
      "|[11.0,114.0,10.0]|      20|  8.464343309973671|\n",
      "|  [1.0,39.0,20.0]|       4| -8.546434365380506|\n",
      "|  [1.0,46.0,12.0]|       1|-20.411900465871227|\n",
      "|  [1.0,46.0,12.0]|       3|-20.411900465871227|\n",
      "| [13.0,32.0,40.0]|       1|  32.59902574543119|\n",
      "|  [4.0,67.0,42.0]|       2| 44.240954618732374|\n",
      "|  [9.0,114.0,4.0]|       1|-3.7042247022167345|\n",
      "| [16.0,117.0,9.0]|       2| 10.893632407332916|\n",
      "| [16.0,117.0,9.0]|       2| 10.893632407332916|\n",
      "| [16.0,117.0,9.0]|       2| 10.893632407332916|\n",
      "| [16.0,117.0,9.0]|       3| 10.893632407332916|\n",
      "+-----------------+--------+-------------------+\n",
      "\n"
     ]
    }
   ],
   "source": [
    "#display the predictions\n",
    "predictions.show(100)"
   ]
  },
  {
   "cell_type": "code",
   "execution_count": 27,
   "id": "fifteen-cornwall",
   "metadata": {},
   "outputs": [
    {
     "name": "stdout",
     "output_type": "stream",
     "text": [
      "test data r2 value: 0.6704525136345016\n"
     ]
    }
   ],
   "source": [
    "#evaluate the model \n",
    "from pyspark.ml.evaluation import RegressionEvaluator\n",
    "evaluator= RegressionEvaluator(predictionCol='prediction',labelCol='bookings',metricName='r2')\n",
    "print('test data r2 value:',evaluator.evaluate(predictions))"
   ]
  },
  {
   "cell_type": "code",
   "execution_count": null,
   "id": "broad-shape",
   "metadata": {},
   "outputs": [],
   "source": []
  },
  {
   "cell_type": "code",
   "execution_count": null,
   "id": "sweet-memorabilia",
   "metadata": {},
   "outputs": [],
   "source": []
  }
 ],
 "metadata": {
  "kernelspec": {
   "display_name": "Python 3",
   "language": "python",
   "name": "python3"
  },
  "language_info": {
   "codemirror_mode": {
    "name": "ipython",
    "version": 3
   },
   "file_extension": ".py",
   "mimetype": "text/x-python",
   "name": "python",
   "nbconvert_exporter": "python",
   "pygments_lexer": "ipython3",
   "version": "3.6.12"
  }
 },
 "nbformat": 4,
 "nbformat_minor": 5
}
