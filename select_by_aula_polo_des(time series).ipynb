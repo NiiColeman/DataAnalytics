{
 "cells": [
  {
   "cell_type": "code",
   "execution_count": 1,
   "id": "comparative-range",
   "metadata": {},
   "outputs": [],
   "source": [
    "from pyspark.sql import SparkSession\n",
    "import pyspark.sql.functions as F\n"
   ]
  },
  {
   "cell_type": "code",
   "execution_count": 2,
   "id": "current-lease",
   "metadata": {},
   "outputs": [],
   "source": [
    "\n",
    "spark = SparkSession \\\n",
    "    .builder \\\n",
    "    .appName(\"test\") \\\n",
    "    .config(\"spark.some.config.option\", \"setting\") \\\n",
    "    .getOrCreate()\n"
   ]
  },
  {
   "cell_type": "code",
   "execution_count": 3,
   "id": "incident-parent",
   "metadata": {},
   "outputs": [],
   "source": [
    "\n",
    "dataset = spark.read.csv('data_csv/presences.csv', header=True, inferSchema=True)\n"
   ]
  },
  {
   "cell_type": "code",
   "execution_count": 4,
   "id": "amazing-training",
   "metadata": {},
   "outputs": [],
   "source": [
    "\n",
    "dataset = dataset.filter(dataset['aula'] == '1').filter(dataset['sede'] == '1').filter(dataset['polo'] == '1')\n"
   ]
  },
  {
   "cell_type": "code",
   "execution_count": 5,
   "id": "accepted-blues",
   "metadata": {},
   "outputs": [
    {
     "name": "stdout",
     "output_type": "stream",
     "text": [
      "+----------+------+\n",
      "|      date|amount|\n",
      "+----------+------+\n",
      "|2020/11/09|    33|\n",
      "|2020/11/10|    48|\n",
      "|2020/11/11|    45|\n",
      "|2020/11/12|    45|\n",
      "|2020/11/13|    38|\n",
      "|2020/11/16|    41|\n",
      "|2020/11/17|    45|\n",
      "|2020/11/18|    49|\n",
      "|2020/11/19|    47|\n",
      "|2020/11/20|    44|\n",
      "|2020/11/23|    41|\n",
      "|2020/11/24|    51|\n",
      "|2020/11/25|    53|\n",
      "|2020/11/26|    80|\n",
      "|2020/11/27|    46|\n",
      "|2020/11/30|    44|\n",
      "|2020/12/01|    78|\n",
      "|2020/12/02|    27|\n",
      "|2020/12/03|    75|\n",
      "|2020/12/04|    69|\n",
      "+----------+------+\n",
      "only showing top 20 rows\n",
      "\n"
     ]
    }
   ],
   "source": [
    "\n",
    "dataset = dataset.withColumn('id', F.monotonically_increasing_id())\n",
    "\n",
    "dataset = dataset.select(F.date_format('date', 'yyyy/MM/dd').alias('date'))\n",
    "dataset = dataset.groupBy(dataset.date).agg(F.count('date').alias('amount')).sort('date')\n",
    "dataset.toPandas().to_csv('data_csv/presences2.csv')\n",
    "dataset.show()\n"
   ]
  },
  {
   "cell_type": "code",
   "execution_count": null,
   "id": "geographic-binary",
   "metadata": {},
   "outputs": [],
   "source": []
  }
 ],
 "metadata": {
  "kernelspec": {
   "display_name": "Python 3",
   "language": "python",
   "name": "python3"
  },
  "language_info": {
   "codemirror_mode": {
    "name": "ipython",
    "version": 3
   },
   "file_extension": ".py",
   "mimetype": "text/x-python",
   "name": "python",
   "nbconvert_exporter": "python",
   "pygments_lexer": "ipython3",
   "version": "3.6.12"
  }
 },
 "nbformat": 4,
 "nbformat_minor": 5
}
