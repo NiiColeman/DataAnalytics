{
 "cells": [
  {
   "cell_type": "code",
   "execution_count": 5,
   "id": "floral-skating",
   "metadata": {},
   "outputs": [],
   "source": [
    "import pandas as pd\n"
   ]
  },
  {
   "cell_type": "code",
   "execution_count": null,
   "id": "comparative-better",
   "metadata": {},
   "outputs": [],
   "source": [
    "df = pd.read_csv('data_csv/presences2.csv')\n",
    "df['date'] = pd.to_datetime(df['date'])\n"
   ]
  },
  {
   "cell_type": "code",
   "execution_count": null,
   "id": "grand-decade",
   "metadata": {},
   "outputs": [],
   "source": [
    "grouper = pd.Grouper(key='date', freq='1D')\n",
    "res = df.groupby(grouper).first().ffill().reset_index()\n",
    "res = res.fillna(0).drop(columns=['Unnamed: 0'])\n",
    "res.to_csv('data_csv/presences3.csv')"
   ]
  },
  {
   "cell_type": "code",
   "execution_count": null,
   "id": "cheap-logic",
   "metadata": {},
   "outputs": [],
   "source": [
    "df = pd.read_json('data_json/presences.json')\n",
    "df2 = pd.read_json('data_json/roomBookings.json')\n",
    "df3 = pd.read_json('data_json/roomSchedule.json')\n",
    "df4 = pd.read_json('data_json/rooms.json')\n",
    "\n",
    "df.to_csv('data_csv/presences.csv')\n",
    "df2.to_csv('data_csv/roomBookings.csv')\n",
    "df3.to_csv('data_csv/roomSchedule.csv')\n",
    "df4.to_csv('data_csv/rooms.csv')"
   ]
  }
 ],
 "metadata": {
  "kernelspec": {
   "display_name": "Python 3",
   "language": "python",
   "name": "python3"
  },
  "language_info": {
   "codemirror_mode": {
    "name": "ipython",
    "version": 3
   },
   "file_extension": ".py",
   "mimetype": "text/x-python",
   "name": "python",
   "nbconvert_exporter": "python",
   "pygments_lexer": "ipython3",
   "version": "3.6.12"
  }
 },
 "nbformat": 4,
 "nbformat_minor": 5
}
