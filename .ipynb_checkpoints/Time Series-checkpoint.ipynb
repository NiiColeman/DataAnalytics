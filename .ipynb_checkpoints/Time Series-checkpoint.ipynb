{
 "cells": [
  {
   "cell_type": "code",
   "execution_count": 7,
   "id": "directed-hotel",
   "metadata": {},
   "outputs": [],
   "source": [
    "import numpy as np\n",
    "import pandas as pd\n"
   ]
  },
  {
   "cell_type": "code",
   "execution_count": 5,
   "id": "explicit-timer",
   "metadata": {},
   "outputs": [
    {
     "name": "stdout",
     "output_type": "stream",
     "text": [
      "Collecting statsmodels\n",
      "  Downloading statsmodels-0.12.2-cp36-none-win_amd64.whl (9.3 MB)\n",
      "Requirement already satisfied: scipy>=1.1 in c:\\users\\niico\\.conda\\envs\\dsenv\\lib\\site-packages (from statsmodels) (1.5.4)\n",
      "Requirement already satisfied: numpy>=1.15 in c:\\users\\niico\\.conda\\envs\\dsenv\\lib\\site-packages (from statsmodels) (1.19.2)\n",
      "Requirement already satisfied: pandas>=0.21 in c:\\users\\niico\\.conda\\envs\\dsenv\\lib\\site-packages (from statsmodels) (1.1.3)\n",
      "Requirement already satisfied: python-dateutil>=2.7.3 in c:\\users\\niico\\.conda\\envs\\dsenv\\lib\\site-packages (from pandas>=0.21->statsmodels) (2.8.1)\n",
      "Requirement already satisfied: numpy>=1.15 in c:\\users\\niico\\.conda\\envs\\dsenv\\lib\\site-packages (from statsmodels) (1.19.2)\n",
      "Requirement already satisfied: pytz>=2017.2 in c:\\users\\niico\\.conda\\envs\\dsenv\\lib\\site-packages (from pandas>=0.21->statsmodels) (2020.4)\n",
      "Collecting patsy>=0.5\n",
      "  Downloading patsy-0.5.1-py2.py3-none-any.whl (231 kB)\n",
      "Requirement already satisfied: six in c:\\users\\niico\\.conda\\envs\\dsenv\\lib\\site-packages (from patsy>=0.5->statsmodels) (1.15.0)\n",
      "Requirement already satisfied: numpy>=1.15 in c:\\users\\niico\\.conda\\envs\\dsenv\\lib\\site-packages (from statsmodels) (1.19.2)\n",
      "Requirement already satisfied: six in c:\\users\\niico\\.conda\\envs\\dsenv\\lib\\site-packages (from patsy>=0.5->statsmodels) (1.15.0)\n",
      "Requirement already satisfied: numpy>=1.15 in c:\\users\\niico\\.conda\\envs\\dsenv\\lib\\site-packages (from statsmodels) (1.19.2)\n",
      "Installing collected packages: patsy, statsmodels\n",
      "Successfully installed patsy-0.5.1 statsmodels-0.12.2\n"
     ]
    }
   ],
   "source": [
    "!pip install statsmodels"
   ]
  },
  {
   "cell_type": "code",
   "execution_count": 8,
   "id": "caring-insight",
   "metadata": {},
   "outputs": [],
   "source": [
    "dataset = pd.read_csv('data_csv/presences3.csv')\n"
   ]
  },
  {
   "cell_type": "code",
   "execution_count": 9,
   "id": "small-investing",
   "metadata": {},
   "outputs": [
    {
     "name": "stderr",
     "output_type": "stream",
     "text": [
      "C:\\Users\\niico\\.conda\\envs\\dsenv\\lib\\site-packages\\ipykernel_launcher.py:4: SettingWithCopyWarning: \n",
      "A value is trying to be set on a copy of a slice from a DataFrame\n",
      "\n",
      "See the caveats in the documentation: https://pandas.pydata.org/pandas-docs/stable/user_guide/indexing.html#returning-a-view-versus-a-copy\n",
      "  after removing the cwd from sys.path.\n"
     ]
    }
   ],
   "source": [
    "y1 = np.array(dataset['amount'])\n",
    "dates = dataset['date']\n",
    "for i in range(0, len(dates)):\n",
    "    dates[i] = dates[i][5:]\n"
   ]
  },
  {
   "cell_type": "code",
   "execution_count": 12,
   "id": "increasing-majority",
   "metadata": {},
   "outputs": [],
   "source": [
    "y = pd.Series(y1, index=dates)\n"
   ]
  },
  {
   "cell_type": "code",
   "execution_count": 19,
   "id": "focal-sight",
   "metadata": {},
   "outputs": [
    {
     "name": "stdout",
     "output_type": "stream",
     "text": [
      "Requirement already satisfied: pyramid-arima in c:\\users\\niico\\.conda\\envs\\dsenv\\lib\\site-packages (0.9.0)\n",
      "Requirement already satisfied: six in c:\\users\\niico\\.conda\\envs\\dsenv\\lib\\site-packages (1.15.0)\n",
      "Requirement already satisfied: Cython>=0.23 in c:\\users\\niico\\.conda\\envs\\dsenv\\lib\\site-packages (from pyramid-arima) (0.29.22)\n",
      "Requirement already satisfied: scikit-learn>=0.17 in c:\\users\\niico\\.conda\\envs\\dsenv\\lib\\site-packages (from pyramid-arima) (0.24.1)\n",
      "Requirement already satisfied: numpy>=1.10 in c:\\users\\niico\\.conda\\envs\\dsenv\\lib\\site-packages (from pyramid-arima) (1.19.2)\n",
      "Requirement already satisfied: statsmodels>=0.9.0 in c:\\users\\niico\\.conda\\envs\\dsenv\\lib\\site-packages (from pyramid-arima) (0.12.2)\n",
      "Requirement already satisfied: pandas>=0.19 in c:\\users\\niico\\.conda\\envs\\dsenv\\lib\\site-packages (from pyramid-arima) (1.1.3)\n",
      "Requirement already satisfied: scipy>=0.9 in c:\\users\\niico\\.conda\\envs\\dsenv\\lib\\site-packages (from pyramid-arima) (1.5.4)\n",
      "Requirement already satisfied: pytz>=2017.2 in c:\\users\\niico\\.conda\\envs\\dsenv\\lib\\site-packages (from pandas>=0.19->pyramid-arima) (2020.4)\n",
      "Requirement already satisfied: numpy>=1.10 in c:\\users\\niico\\.conda\\envs\\dsenv\\lib\\site-packages (from pyramid-arima) (1.19.2)\n",
      "Requirement already satisfied: python-dateutil>=2.7.3 in c:\\users\\niico\\.conda\\envs\\dsenv\\lib\\site-packages (from pandas>=0.19->pyramid-arima) (2.8.1)\n",
      "Requirement already satisfied: six in c:\\users\\niico\\.conda\\envs\\dsenv\\lib\\site-packages (1.15.0)\n",
      "Requirement already satisfied: scipy>=0.9 in c:\\users\\niico\\.conda\\envs\\dsenv\\lib\\site-packages (from pyramid-arima) (1.5.4)\n",
      "Requirement already satisfied: joblib>=0.11 in c:\\users\\niico\\.conda\\envs\\dsenv\\lib\\site-packages (from scikit-learn>=0.17->pyramid-arima) (1.0.1)\n",
      "Requirement already satisfied: threadpoolctl>=2.0.0 in c:\\users\\niico\\.conda\\envs\\dsenv\\lib\\site-packages (from scikit-learn>=0.17->pyramid-arima) (2.1.0)\n",
      "Requirement already satisfied: numpy>=1.10 in c:\\users\\niico\\.conda\\envs\\dsenv\\lib\\site-packages (from pyramid-arima) (1.19.2)\n",
      "Requirement already satisfied: numpy>=1.10 in c:\\users\\niico\\.conda\\envs\\dsenv\\lib\\site-packages (from pyramid-arima) (1.19.2)\n",
      "Requirement already satisfied: patsy>=0.5 in c:\\users\\niico\\.conda\\envs\\dsenv\\lib\\site-packages (from statsmodels>=0.9.0->pyramid-arima) (0.5.1)\n",
      "Requirement already satisfied: scipy>=0.9 in c:\\users\\niico\\.conda\\envs\\dsenv\\lib\\site-packages (from pyramid-arima) (1.5.4)\n",
      "Requirement already satisfied: pandas>=0.19 in c:\\users\\niico\\.conda\\envs\\dsenv\\lib\\site-packages (from pyramid-arima) (1.1.3)\n",
      "Requirement already satisfied: numpy>=1.10 in c:\\users\\niico\\.conda\\envs\\dsenv\\lib\\site-packages (from pyramid-arima) (1.19.2)\n",
      "Requirement already satisfied: numpy>=1.10 in c:\\users\\niico\\.conda\\envs\\dsenv\\lib\\site-packages (from pyramid-arima) (1.19.2)\n",
      "Requirement already satisfied: six in c:\\users\\niico\\.conda\\envs\\dsenv\\lib\\site-packages (1.15.0)\n"
     ]
    }
   ],
   "source": [
    "!pip install pyramid-arima six"
   ]
  },
  {
   "cell_type": "code",
   "execution_count": 24,
   "id": "severe-glance",
   "metadata": {},
   "outputs": [],
   "source": [
    "import six"
   ]
  },
  {
   "cell_type": "code",
   "execution_count": null,
   "id": "opposite-elder",
   "metadata": {},
   "outputs": [],
   "source": [
    "import pyramid"
   ]
  },
  {
   "cell_type": "code",
   "execution_count": 31,
   "id": "subsequent-facility",
   "metadata": {},
   "outputs": [],
   "source": [
    "arma_mod = pyramid.ARIMA(y, order=(2, 0, 2), trend='n')\n"
   ]
  },
  {
   "cell_type": "code",
   "execution_count": null,
   "id": "suited-treatment",
   "metadata": {},
   "outputs": [],
   "source": [
    "arma_res = arma_mod.fit()\n",
    "fig, ax = plt.subplots(figsize=(10,8))\n",
    "fig = plot_predict(arma_res, start='11-09', end='12-16', ax=ax)\n"
   ]
  },
  {
   "cell_type": "code",
   "execution_count": null,
   "id": "geological-remains",
   "metadata": {},
   "outputs": [],
   "source": [
    "plt.plot(dates,y1, label='True Values')\n",
    "legend = ax.legend(loc='upper left')\n",
    "plt.savefig('timeseries.jpg')\n",
    "plt.show()\n",
    "\n",
    "print(arma_res.summary())"
   ]
  }
 ],
 "metadata": {
  "kernelspec": {
   "display_name": "Python 3",
   "language": "python",
   "name": "python3"
  },
  "language_info": {
   "codemirror_mode": {
    "name": "ipython",
    "version": 3
   },
   "file_extension": ".py",
   "mimetype": "text/x-python",
   "name": "python",
   "nbconvert_exporter": "python",
   "pygments_lexer": "ipython3",
   "version": "3.6.12"
  }
 },
 "nbformat": 4,
 "nbformat_minor": 5
}
