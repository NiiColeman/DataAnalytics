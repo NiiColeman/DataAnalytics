{
 "cells": [
  {
   "cell_type": "code",
   "execution_count": 3,
   "id": "french-survey",
   "metadata": {
    "colab": {
     "base_uri": "https://localhost:8080/",
     "height": 371
    },
    "id": "french-survey",
    "outputId": "7909b6db-b5c1-497f-c577-304f506c1959"
   },
   "outputs": [],
   "source": [
    "#@title\n",
    "from pyspark.sql import SparkSession\n",
    "import pyspark.sql.functions as F\n",
    "\n",
    "spark = SparkSession \\\n",
    "    .builder \\\n",
    "    .appName(\"test\") \\\n",
    "    .config(\"spark.some.config.option\", \"setting\") \\\n",
    "    .getOrCreate()\n"
   ]
  },
  {
   "cell_type": "code",
   "execution_count": 4,
   "id": "tight-timothy",
   "metadata": {
    "id": "tight-timothy"
   },
   "outputs": [],
   "source": [
    "import pandas as pd \n",
    "import matplotlib.pyplot as plt\n",
    "import seaborn as sns "
   ]
  },
  {
   "cell_type": "code",
   "execution_count": 33,
   "id": "brown-integrity",
   "metadata": {
    "id": "brown-integrity"
   },
   "outputs": [],
   "source": [
    "df = spark.read.csv('data_csv/presences.csv', header=True, inferSchema=True)\n",
    "# create a spark dataframe"
   ]
  },
  {
   "cell_type": "code",
   "execution_count": 34,
   "id": "decent-debut",
   "metadata": {
    "id": "decent-debut"
   },
   "outputs": [],
   "source": [
    "pdf=pd.read_csv('presence_ds.csv')\n",
    "# create a pandas dataframe"
   ]
  },
  {
   "cell_type": "code",
   "execution_count": 35,
   "id": "sixth-sensitivity",
   "metadata": {
    "id": "sixth-sensitivity"
   },
   "outputs": [],
   "source": [
    "pdf=pdf.dropna()\n",
    "# drop null values from the dataframe"
   ]
  },
  {
   "cell_type": "code",
   "execution_count": 36,
   "id": "thorough-drove",
   "metadata": {
    "id": "thorough-drove",
    "outputId": "9df4cb66-89fc-453c-f842-b0f6d0469206"
   },
   "outputs": [
    {
     "data": {
      "text/plain": [
       "69"
      ]
     },
     "execution_count": 36,
     "metadata": {},
     "output_type": "execute_result"
    }
   ],
   "source": [
    "len(pdf.aula.unique())\n",
    "#69 different classrooms\n"
   ]
  },
  {
   "cell_type": "code",
   "execution_count": 37,
   "id": "sticky-killing",
   "metadata": {
    "id": "sticky-killing",
    "outputId": "0b0d312c-4276-497e-ddf9-3e095edf0b14"
   },
   "outputs": [
    {
     "data": {
      "text/plain": [
       "22"
      ]
     },
     "execution_count": 37,
     "metadata": {},
     "output_type": "execute_result"
    }
   ],
   "source": [
    "len(pdf.polo.unique())\n",
    "#22 different departmentss"
   ]
  },
  {
   "cell_type": "code",
   "execution_count": 38,
   "id": "southeast-ending",
   "metadata": {
    "id": "southeast-ending",
    "outputId": "be115912-d70c-44da-ec73-7b11c7d8a21b"
   },
   "outputs": [
    {
     "data": {
      "text/plain": [
       "882"
      ]
     },
     "execution_count": 38,
     "metadata": {},
     "output_type": "execute_result"
    }
   ],
   "source": [
    "len(pdf.username.unique())\n",
    "# 882 unique users\n"
   ]
  },
  {
   "cell_type": "code",
   "execution_count": 39,
   "id": "express-register",
   "metadata": {
    "id": "express-register",
    "outputId": "1ddffc71-3e22-4258-9904-f53e2695b52d"
   },
   "outputs": [
    {
     "data": {
      "text/html": [
       "<div>\n",
       "<style scoped>\n",
       "    .dataframe tbody tr th:only-of-type {\n",
       "        vertical-align: middle;\n",
       "    }\n",
       "\n",
       "    .dataframe tbody tr th {\n",
       "        vertical-align: top;\n",
       "    }\n",
       "\n",
       "    .dataframe thead th {\n",
       "        text-align: right;\n",
       "    }\n",
       "</style>\n",
       "<table border=\"1\" class=\"dataframe\">\n",
       "  <thead>\n",
       "    <tr style=\"text-align: right;\">\n",
       "      <th></th>\n",
       "      <th>_id</th>\n",
       "      <th>id</th>\n",
       "      <th>username</th>\n",
       "      <th>aula</th>\n",
       "      <th>sede</th>\n",
       "      <th>polo</th>\n",
       "      <th>inDate</th>\n",
       "      <th>date</th>\n",
       "      <th>posto</th>\n",
       "      <th>outDate</th>\n",
       "    </tr>\n",
       "  </thead>\n",
       "  <tbody>\n",
       "    <tr>\n",
       "      <th>0</th>\n",
       "      <td>5fa8ef7d1bd2a03f4641a15e</td>\n",
       "      <td>81929</td>\n",
       "      <td>1</td>\n",
       "      <td>1</td>\n",
       "      <td>1</td>\n",
       "      <td>1</td>\n",
       "      <td>11/9/2020 8:27</td>\n",
       "      <td>11/9/2020 8:27</td>\n",
       "      <td>1</td>\n",
       "      <td>11/9/2020 13:05</td>\n",
       "    </tr>\n",
       "    <tr>\n",
       "      <th>1</th>\n",
       "      <td>5fa8efa51bd2a03f4641a15f</td>\n",
       "      <td>81098</td>\n",
       "      <td>2</td>\n",
       "      <td>1</td>\n",
       "      <td>1</td>\n",
       "      <td>1</td>\n",
       "      <td>11/9/2020 8:28</td>\n",
       "      <td>11/9/2020 8:28</td>\n",
       "      <td>2</td>\n",
       "      <td>11/9/2020 13:05</td>\n",
       "    </tr>\n",
       "    <tr>\n",
       "      <th>2</th>\n",
       "      <td>5fa8f0751bd2a03f4641a160</td>\n",
       "      <td>81009</td>\n",
       "      <td>3</td>\n",
       "      <td>1</td>\n",
       "      <td>1</td>\n",
       "      <td>1</td>\n",
       "      <td>11/9/2020 8:32</td>\n",
       "      <td>11/9/2020 8:32</td>\n",
       "      <td>3</td>\n",
       "      <td>11/9/2020 13:05</td>\n",
       "    </tr>\n",
       "    <tr>\n",
       "      <th>3</th>\n",
       "      <td>5fa8f0811bd2a03f4641a161</td>\n",
       "      <td>80492</td>\n",
       "      <td>4</td>\n",
       "      <td>1</td>\n",
       "      <td>1</td>\n",
       "      <td>1</td>\n",
       "      <td>11/9/2020 8:32</td>\n",
       "      <td>11/9/2020 8:32</td>\n",
       "      <td>4</td>\n",
       "      <td>11/9/2020 8:32</td>\n",
       "    </tr>\n",
       "    <tr>\n",
       "      <th>4</th>\n",
       "      <td>5fa8f0891bd2a03f4641a162</td>\n",
       "      <td>80492</td>\n",
       "      <td>4</td>\n",
       "      <td>1</td>\n",
       "      <td>1</td>\n",
       "      <td>1</td>\n",
       "      <td>11/9/2020 8:32</td>\n",
       "      <td>11/9/2020 8:32</td>\n",
       "      <td>5</td>\n",
       "      <td>11/9/2020 8:32</td>\n",
       "    </tr>\n",
       "    <tr>\n",
       "      <th>...</th>\n",
       "      <td>...</td>\n",
       "      <td>...</td>\n",
       "      <td>...</td>\n",
       "      <td>...</td>\n",
       "      <td>...</td>\n",
       "      <td>...</td>\n",
       "      <td>...</td>\n",
       "      <td>...</td>\n",
       "      <td>...</td>\n",
       "      <td>...</td>\n",
       "    </tr>\n",
       "    <tr>\n",
       "      <th>10644</th>\n",
       "      <td>5fe30a4a1c7ca18763114dbc</td>\n",
       "      <td>82289</td>\n",
       "      <td>591</td>\n",
       "      <td>24</td>\n",
       "      <td>2</td>\n",
       "      <td>14</td>\n",
       "      <td>12/23/2020 10:13</td>\n",
       "      <td>12/23/2020 10:13</td>\n",
       "      <td>7</td>\n",
       "      <td>12/23/2020 13:05</td>\n",
       "    </tr>\n",
       "    <tr>\n",
       "      <th>10645</th>\n",
       "      <td>5fe313f51c7ca18763114dca</td>\n",
       "      <td>81216</td>\n",
       "      <td>47</td>\n",
       "      <td>3</td>\n",
       "      <td>1</td>\n",
       "      <td>3</td>\n",
       "      <td>12/23/2020 10:55</td>\n",
       "      <td>12/23/2020 10:55</td>\n",
       "      <td>1</td>\n",
       "      <td>12/23/2020 13:05</td>\n",
       "    </tr>\n",
       "    <tr>\n",
       "      <th>10646</th>\n",
       "      <td>5fe314031c7ca18763114dcb</td>\n",
       "      <td>81490</td>\n",
       "      <td>49</td>\n",
       "      <td>3</td>\n",
       "      <td>1</td>\n",
       "      <td>3</td>\n",
       "      <td>12/23/2020 10:55</td>\n",
       "      <td>12/23/2020 10:55</td>\n",
       "      <td>2</td>\n",
       "      <td>12/23/2020 12:56</td>\n",
       "    </tr>\n",
       "    <tr>\n",
       "      <th>10647</th>\n",
       "      <td>5fe316041c7ca18763114dcc</td>\n",
       "      <td>81241</td>\n",
       "      <td>25</td>\n",
       "      <td>9</td>\n",
       "      <td>2</td>\n",
       "      <td>4</td>\n",
       "      <td>12/23/2020 11:03</td>\n",
       "      <td>12/23/2020 11:03</td>\n",
       "      <td>4</td>\n",
       "      <td>12/23/2020 13:05</td>\n",
       "    </tr>\n",
       "    <tr>\n",
       "      <th>10648</th>\n",
       "      <td>5fe319fe1c7ca18763114dcd</td>\n",
       "      <td>69271</td>\n",
       "      <td>821</td>\n",
       "      <td>48</td>\n",
       "      <td>1</td>\n",
       "      <td>12</td>\n",
       "      <td>12/23/2020 11:20</td>\n",
       "      <td>12/23/2020 11:20</td>\n",
       "      <td>14</td>\n",
       "      <td>12/23/2020 13:05</td>\n",
       "    </tr>\n",
       "  </tbody>\n",
       "</table>\n",
       "<p>10649 rows × 10 columns</p>\n",
       "</div>"
      ],
      "text/plain": [
       "                            _id     id  username  aula  sede  polo  \\\n",
       "0      5fa8ef7d1bd2a03f4641a15e  81929         1     1     1     1   \n",
       "1      5fa8efa51bd2a03f4641a15f  81098         2     1     1     1   \n",
       "2      5fa8f0751bd2a03f4641a160  81009         3     1     1     1   \n",
       "3      5fa8f0811bd2a03f4641a161  80492         4     1     1     1   \n",
       "4      5fa8f0891bd2a03f4641a162  80492         4     1     1     1   \n",
       "...                         ...    ...       ...   ...   ...   ...   \n",
       "10644  5fe30a4a1c7ca18763114dbc  82289       591    24     2    14   \n",
       "10645  5fe313f51c7ca18763114dca  81216        47     3     1     3   \n",
       "10646  5fe314031c7ca18763114dcb  81490        49     3     1     3   \n",
       "10647  5fe316041c7ca18763114dcc  81241        25     9     2     4   \n",
       "10648  5fe319fe1c7ca18763114dcd  69271       821    48     1    12   \n",
       "\n",
       "                 inDate              date  posto           outDate  \n",
       "0        11/9/2020 8:27    11/9/2020 8:27      1   11/9/2020 13:05  \n",
       "1        11/9/2020 8:28    11/9/2020 8:28      2   11/9/2020 13:05  \n",
       "2        11/9/2020 8:32    11/9/2020 8:32      3   11/9/2020 13:05  \n",
       "3        11/9/2020 8:32    11/9/2020 8:32      4    11/9/2020 8:32  \n",
       "4        11/9/2020 8:32    11/9/2020 8:32      5    11/9/2020 8:32  \n",
       "...                 ...               ...    ...               ...  \n",
       "10644  12/23/2020 10:13  12/23/2020 10:13      7  12/23/2020 13:05  \n",
       "10645  12/23/2020 10:55  12/23/2020 10:55      1  12/23/2020 13:05  \n",
       "10646  12/23/2020 10:55  12/23/2020 10:55      2  12/23/2020 12:56  \n",
       "10647  12/23/2020 11:03  12/23/2020 11:03      4  12/23/2020 13:05  \n",
       "10648  12/23/2020 11:20  12/23/2020 11:20     14  12/23/2020 13:05  \n",
       "\n",
       "[10649 rows x 10 columns]"
      ]
     },
     "execution_count": 39,
     "metadata": {},
     "output_type": "execute_result"
    }
   ],
   "source": [
    "pdf"
   ]
  },
  {
   "cell_type": "code",
   "execution_count": 14,
   "id": "christian-offering",
   "metadata": {
    "id": "christian-offering"
   },
   "outputs": [],
   "source": [
    "new_df=pdf.groupby(['aula','sede','polo','date'])['posto'].agg('max').reset_index()\n",
    "aggregate the number of user entries on a given day "
   ]
  },
  {
   "cell_type": "code",
   "execution_count": 15,
   "id": "productive-buyer",
   "metadata": {
    "id": "productive-buyer",
    "outputId": "d042d216-b281-4381-b885-62ad168bf848"
   },
   "outputs": [
    {
     "data": {
      "text/html": [
       "<div>\n",
       "<style scoped>\n",
       "    .dataframe tbody tr th:only-of-type {\n",
       "        vertical-align: middle;\n",
       "    }\n",
       "\n",
       "    .dataframe tbody tr th {\n",
       "        vertical-align: top;\n",
       "    }\n",
       "\n",
       "    .dataframe thead th {\n",
       "        text-align: right;\n",
       "    }\n",
       "</style>\n",
       "<table border=\"1\" class=\"dataframe\">\n",
       "  <thead>\n",
       "    <tr style=\"text-align: right;\">\n",
       "      <th></th>\n",
       "      <th>aula</th>\n",
       "      <th>sede</th>\n",
       "      <th>polo</th>\n",
       "      <th>date</th>\n",
       "      <th>posto</th>\n",
       "    </tr>\n",
       "  </thead>\n",
       "  <tbody>\n",
       "    <tr>\n",
       "      <th>0</th>\n",
       "      <td>1</td>\n",
       "      <td>1</td>\n",
       "      <td>1</td>\n",
       "      <td>11/10/2020 11:02</td>\n",
       "      <td>48</td>\n",
       "    </tr>\n",
       "    <tr>\n",
       "      <th>1</th>\n",
       "      <td>1</td>\n",
       "      <td>1</td>\n",
       "      <td>1</td>\n",
       "      <td>11/10/2020 8:17</td>\n",
       "      <td>1</td>\n",
       "    </tr>\n",
       "    <tr>\n",
       "      <th>2</th>\n",
       "      <td>1</td>\n",
       "      <td>1</td>\n",
       "      <td>1</td>\n",
       "      <td>11/10/2020 8:18</td>\n",
       "      <td>2</td>\n",
       "    </tr>\n",
       "    <tr>\n",
       "      <th>3</th>\n",
       "      <td>1</td>\n",
       "      <td>1</td>\n",
       "      <td>1</td>\n",
       "      <td>11/10/2020 8:26</td>\n",
       "      <td>3</td>\n",
       "    </tr>\n",
       "    <tr>\n",
       "      <th>4</th>\n",
       "      <td>1</td>\n",
       "      <td>1</td>\n",
       "      <td>1</td>\n",
       "      <td>11/10/2020 8:27</td>\n",
       "      <td>4</td>\n",
       "    </tr>\n",
       "    <tr>\n",
       "      <th>...</th>\n",
       "      <td>...</td>\n",
       "      <td>...</td>\n",
       "      <td>...</td>\n",
       "      <td>...</td>\n",
       "      <td>...</td>\n",
       "    </tr>\n",
       "    <tr>\n",
       "      <th>5034</th>\n",
       "      <td>68</td>\n",
       "      <td>2</td>\n",
       "      <td>4</td>\n",
       "      <td>12/18/2020 10:12</td>\n",
       "      <td>13</td>\n",
       "    </tr>\n",
       "    <tr>\n",
       "      <th>5035</th>\n",
       "      <td>68</td>\n",
       "      <td>2</td>\n",
       "      <td>4</td>\n",
       "      <td>12/18/2020 10:14</td>\n",
       "      <td>15</td>\n",
       "    </tr>\n",
       "    <tr>\n",
       "      <th>5036</th>\n",
       "      <td>68</td>\n",
       "      <td>2</td>\n",
       "      <td>4</td>\n",
       "      <td>12/18/2020 10:17</td>\n",
       "      <td>16</td>\n",
       "    </tr>\n",
       "    <tr>\n",
       "      <th>5037</th>\n",
       "      <td>68</td>\n",
       "      <td>2</td>\n",
       "      <td>4</td>\n",
       "      <td>12/18/2020 10:18</td>\n",
       "      <td>17</td>\n",
       "    </tr>\n",
       "    <tr>\n",
       "      <th>5038</th>\n",
       "      <td>84</td>\n",
       "      <td>3</td>\n",
       "      <td>22</td>\n",
       "      <td>12/22/2020 16:32</td>\n",
       "      <td>1</td>\n",
       "    </tr>\n",
       "  </tbody>\n",
       "</table>\n",
       "<p>5039 rows × 5 columns</p>\n",
       "</div>"
      ],
      "text/plain": [
       "      aula  sede  polo              date  posto\n",
       "0        1     1     1  11/10/2020 11:02     48\n",
       "1        1     1     1   11/10/2020 8:17      1\n",
       "2        1     1     1   11/10/2020 8:18      2\n",
       "3        1     1     1   11/10/2020 8:26      3\n",
       "4        1     1     1   11/10/2020 8:27      4\n",
       "...    ...   ...   ...               ...    ...\n",
       "5034    68     2     4  12/18/2020 10:12     13\n",
       "5035    68     2     4  12/18/2020 10:14     15\n",
       "5036    68     2     4  12/18/2020 10:17     16\n",
       "5037    68     2     4  12/18/2020 10:18     17\n",
       "5038    84     3    22  12/22/2020 16:32      1\n",
       "\n",
       "[5039 rows x 5 columns]"
      ]
     },
     "execution_count": 15,
     "metadata": {},
     "output_type": "execute_result"
    }
   ],
   "source": [
    "new_df"
   ]
  },
  {
   "cell_type": "code",
   "execution_count": 16,
   "id": "restricted-liberal",
   "metadata": {
    "id": "restricted-liberal"
   },
   "outputs": [
    {
     "ename": "NameError",
     "evalue": "name 'new_date' is not defined",
     "output_type": "error",
     "traceback": [
      "\u001b[1;31m---------------------------------------------------------------------------\u001b[0m",
      "\u001b[1;31mNameError\u001b[0m                                 Traceback (most recent call last)",
      "\u001b[1;32m<ipython-input-16-e2674c94349f>\u001b[0m in \u001b[0;36m<module>\u001b[1;34m\u001b[0m\n\u001b[1;32m----> 1\u001b[1;33m \u001b[0mdf2\u001b[0m\u001b[1;33m=\u001b[0m\u001b[0mpd\u001b[0m\u001b[1;33m.\u001b[0m\u001b[0mDataFrame\u001b[0m\u001b[1;33m(\u001b[0m\u001b[1;33m{\u001b[0m\u001b[1;34m'myDate'\u001b[0m\u001b[1;33m:\u001b[0m\u001b[0mnew_date\u001b[0m\u001b[1;33m}\u001b[0m\u001b[1;33m)\u001b[0m\u001b[1;33m\u001b[0m\u001b[1;33m\u001b[0m\u001b[0m\n\u001b[0m",
      "\u001b[1;31mNameError\u001b[0m: name 'new_date' is not defined"
     ]
    }
   ],
   "source": [
    "df2=pd.DataFrame({'myDate':new_date})"
   ]
  },
  {
   "cell_type": "code",
   "execution_count": null,
   "id": "correct-remains",
   "metadata": {
    "id": "correct-remains"
   },
   "outputs": [],
   "source": [
    "pdf.date=df2['myDate']"
   ]
  },
  {
   "cell_type": "code",
   "execution_count": null,
   "id": "realistic-specification",
   "metadata": {
    "id": "realistic-specification"
   },
   "outputs": [],
   "source": [
    "pdf.date"
   ]
  },
  {
   "cell_type": "code",
   "execution_count": null,
   "id": "ecological-baseball",
   "metadata": {
    "id": "ecological-baseball"
   },
   "outputs": [],
   "source": [
    "pdf"
   ]
  },
  {
   "cell_type": "code",
   "execution_count": 19,
   "id": "certain-jumping",
   "metadata": {
    "id": "certain-jumping"
   },
   "outputs": [],
   "source": [
    "booking=pd.read_json('data/roomBookings.json')\n",
    "presence=pd.read_json('data/presences.json')\n",
    "rooms=pd.read_json('data/rooms.json')\n",
    "rs=pd.read_json('data/roomSchedule.json')"
   ]
  },
  {
   "cell_type": "markdown",
   "id": "JB8K2nJwADOa",
   "metadata": {
    "id": "JB8K2nJwADOa"
   },
   "source": []
  },
  {
   "cell_type": "code",
   "execution_count": 23,
   "id": "smoking-island",
   "metadata": {
    "id": "smoking-island"
   },
   "outputs": [],
   "source": [
    "result=pd.concat([rs,rooms],axis=1).reindex(rs.index)\n",
    "# concatinate roomschedule and rooms , based on the specified axis"
   ]
  },
  {
   "cell_type": "code",
   "execution_count": null,
   "id": "aH18lhfXAGI5",
   "metadata": {
    "id": "aH18lhfXAGI5"
   },
   "outputs": [],
   "source": []
  },
  {
   "cell_type": "code",
   "execution_count": 24,
   "id": "several-active",
   "metadata": {
    "id": "several-active",
    "outputId": "0227938d-0f5b-4c1e-c918-f9918a78c9af"
   },
   "outputs": [
    {
     "data": {
      "text/html": [
       "<div>\n",
       "<style scoped>\n",
       "    .dataframe tbody tr th:only-of-type {\n",
       "        vertical-align: middle;\n",
       "    }\n",
       "\n",
       "    .dataframe tbody tr th {\n",
       "        vertical-align: top;\n",
       "    }\n",
       "\n",
       "    .dataframe thead th {\n",
       "        text-align: right;\n",
       "    }\n",
       "</style>\n",
       "<table border=\"1\" class=\"dataframe\">\n",
       "  <thead>\n",
       "    <tr style=\"text-align: right;\">\n",
       "      <th></th>\n",
       "      <th>_id</th>\n",
       "      <th>bookings</th>\n",
       "      <th>room</th>\n",
       "      <th>date</th>\n",
       "      <th>_id</th>\n",
       "      <th>Sede</th>\n",
       "      <th>aulaId</th>\n",
       "      <th>aulaDes</th>\n",
       "      <th>capienza</th>\n",
       "      <th>poloDes</th>\n",
       "      <th>date</th>\n",
       "      <th>scheduleType</th>\n",
       "      <th>schedules</th>\n",
       "    </tr>\n",
       "  </thead>\n",
       "  <tbody>\n",
       "    <tr>\n",
       "      <th>0</th>\n",
       "      <td>5fa8267c1bd2a03f4641a099</td>\n",
       "      <td>[{'_id': '5fa8267c1bd2a03f4641a09a', 'start': ...</td>\n",
       "      <td>5f5bd5fafc7a3450ea06e81c</td>\n",
       "      <td>2020-11-08 17:10:20.328000+00:00</td>\n",
       "      <td>5f5b4fdd400b9fbfbe0b8e94</td>\n",
       "      <td>1.0</td>\n",
       "      <td>1.0</td>\n",
       "      <td>69.0</td>\n",
       "      <td>10.0</td>\n",
       "      <td>15.0</td>\n",
       "      <td>2020-10-02 19:17:16.414000+00:00</td>\n",
       "      <td>[]</td>\n",
       "      <td>[]</td>\n",
       "    </tr>\n",
       "    <tr>\n",
       "      <th>1</th>\n",
       "      <td>5fa859611bd2a03f4641a0e0</td>\n",
       "      <td>[{'_id': '5fa859611bd2a03f4641a0e1', 'start': ...</td>\n",
       "      <td>5f5cc739fc7a3450ea06e838</td>\n",
       "      <td>2020-11-08 20:47:29.186000+00:00</td>\n",
       "      <td>5f5b4fdd400b9fbfbe0b8e95</td>\n",
       "      <td>1.0</td>\n",
       "      <td>2.0</td>\n",
       "      <td>25.0</td>\n",
       "      <td>24.0</td>\n",
       "      <td>15.0</td>\n",
       "      <td>2020-12-15 15:38:27.918000+00:00</td>\n",
       "      <td>[]</td>\n",
       "      <td>[]</td>\n",
       "    </tr>\n",
       "    <tr>\n",
       "      <th>2</th>\n",
       "      <td>5fa87aad1bd2a03f4641a130</td>\n",
       "      <td>[{'_id': '5fa87aad1bd2a03f4641a131', 'start': ...</td>\n",
       "      <td>5f5b4fdd400b9fbfbe0b8ec3</td>\n",
       "      <td>2020-11-08 23:09:33.878000+00:00</td>\n",
       "      <td>5f5b4fdd400b9fbfbe0b8e96</td>\n",
       "      <td>1.0</td>\n",
       "      <td>3.0</td>\n",
       "      <td>12.0</td>\n",
       "      <td>12.0</td>\n",
       "      <td>2.0</td>\n",
       "      <td>2020-10-29 10:10:23.875000+00:00</td>\n",
       "      <td>[]</td>\n",
       "      <td>[]</td>\n",
       "    </tr>\n",
       "    <tr>\n",
       "      <th>3</th>\n",
       "      <td>5fa8fb591bd2a03f4641a1e9</td>\n",
       "      <td>[{'_id': '5fa8fb591bd2a03f4641a1ea', 'start': ...</td>\n",
       "      <td>5f5bd5fafc7a3450ea06e81c</td>\n",
       "      <td>2020-11-09 08:18:33.344000+00:00</td>\n",
       "      <td>5f5b4fdd400b9fbfbe0b8e97</td>\n",
       "      <td>1.0</td>\n",
       "      <td>4.0</td>\n",
       "      <td>16.0</td>\n",
       "      <td>10.0</td>\n",
       "      <td>2.0</td>\n",
       "      <td>2020-12-15 10:17:12.238000+00:00</td>\n",
       "      <td>[]</td>\n",
       "      <td>[]</td>\n",
       "    </tr>\n",
       "    <tr>\n",
       "      <th>4</th>\n",
       "      <td>5fa8fc3d1bd2a03f4641a1f7</td>\n",
       "      <td>[{'_id': '5fa8fc3d1bd2a03f4641a1f8', 'start': ...</td>\n",
       "      <td>5f5cc50bfc7a3450ea06e834</td>\n",
       "      <td>2020-11-09 08:22:21.433000+00:00</td>\n",
       "      <td>5f5b4fdd400b9fbfbe0b8e98</td>\n",
       "      <td>1.0</td>\n",
       "      <td>7.0</td>\n",
       "      <td>35.0</td>\n",
       "      <td>76.0</td>\n",
       "      <td>18.0</td>\n",
       "      <td>2020-12-16 10:04:16.903000+00:00</td>\n",
       "      <td>[]</td>\n",
       "      <td>[]</td>\n",
       "    </tr>\n",
       "    <tr>\n",
       "      <th>...</th>\n",
       "      <td>...</td>\n",
       "      <td>...</td>\n",
       "      <td>...</td>\n",
       "      <td>...</td>\n",
       "      <td>...</td>\n",
       "      <td>...</td>\n",
       "      <td>...</td>\n",
       "      <td>...</td>\n",
       "      <td>...</td>\n",
       "      <td>...</td>\n",
       "      <td>...</td>\n",
       "      <td>...</td>\n",
       "      <td>...</td>\n",
       "    </tr>\n",
       "    <tr>\n",
       "      <th>189</th>\n",
       "      <td>5fdc8542ff3b76b96dd79dab</td>\n",
       "      <td>[{'_id': '5fdc8542ff3b76b96dd79dac', 'start': ...</td>\n",
       "      <td>5f5cc781fc7a3450ea06e839</td>\n",
       "      <td>2020-12-18 10:32:34.679000+00:00</td>\n",
       "      <td>NaN</td>\n",
       "      <td>NaN</td>\n",
       "      <td>NaN</td>\n",
       "      <td>NaN</td>\n",
       "      <td>NaN</td>\n",
       "      <td>NaN</td>\n",
       "      <td>NaT</td>\n",
       "      <td>NaN</td>\n",
       "      <td>NaN</td>\n",
       "    </tr>\n",
       "    <tr>\n",
       "      <th>190</th>\n",
       "      <td>5fde2cd81c7ca18763114afb</td>\n",
       "      <td>[{'_id': '5fde2cd81c7ca18763114afc', 'start': ...</td>\n",
       "      <td>5f5cc50bfc7a3450ea06e834</td>\n",
       "      <td>2020-12-19 16:39:52.105000+00:00</td>\n",
       "      <td>NaN</td>\n",
       "      <td>NaN</td>\n",
       "      <td>NaN</td>\n",
       "      <td>NaN</td>\n",
       "      <td>NaN</td>\n",
       "      <td>NaN</td>\n",
       "      <td>NaT</td>\n",
       "      <td>NaN</td>\n",
       "      <td>NaN</td>\n",
       "    </tr>\n",
       "    <tr>\n",
       "      <th>191</th>\n",
       "      <td>5fdf86151c7ca18763114b2a</td>\n",
       "      <td>[{'_id': '5fdf86151c7ca18763114b2b', 'start': ...</td>\n",
       "      <td>5f5cc50bfc7a3450ea06e834</td>\n",
       "      <td>2020-12-20 17:12:53.116000+00:00</td>\n",
       "      <td>NaN</td>\n",
       "      <td>NaN</td>\n",
       "      <td>NaN</td>\n",
       "      <td>NaN</td>\n",
       "      <td>NaN</td>\n",
       "      <td>NaN</td>\n",
       "      <td>NaT</td>\n",
       "      <td>NaN</td>\n",
       "      <td>NaN</td>\n",
       "    </tr>\n",
       "    <tr>\n",
       "      <th>192</th>\n",
       "      <td>5fdfabe51c7ca18763114b5e</td>\n",
       "      <td>[{'_id': '5fdfabe51c7ca18763114b5f', 'start': ...</td>\n",
       "      <td>5f5cc50bfc7a3450ea06e834</td>\n",
       "      <td>2020-12-20 19:54:13.157000+00:00</td>\n",
       "      <td>NaN</td>\n",
       "      <td>NaN</td>\n",
       "      <td>NaN</td>\n",
       "      <td>NaN</td>\n",
       "      <td>NaN</td>\n",
       "      <td>NaN</td>\n",
       "      <td>NaT</td>\n",
       "      <td>NaN</td>\n",
       "      <td>NaN</td>\n",
       "    </tr>\n",
       "    <tr>\n",
       "      <th>193</th>\n",
       "      <td>5fdfea6b1c7ca18763114b9f</td>\n",
       "      <td>[{'_id': '5fdfea6b1c7ca18763114ba0', 'start': ...</td>\n",
       "      <td>5f5bd5fafc7a3450ea06e81c</td>\n",
       "      <td>2020-12-21 00:20:59.897000+00:00</td>\n",
       "      <td>NaN</td>\n",
       "      <td>NaN</td>\n",
       "      <td>NaN</td>\n",
       "      <td>NaN</td>\n",
       "      <td>NaN</td>\n",
       "      <td>NaN</td>\n",
       "      <td>NaT</td>\n",
       "      <td>NaN</td>\n",
       "      <td>NaN</td>\n",
       "    </tr>\n",
       "  </tbody>\n",
       "</table>\n",
       "<p>194 rows × 13 columns</p>\n",
       "</div>"
      ],
      "text/plain": [
       "                          _id  \\\n",
       "0    5fa8267c1bd2a03f4641a099   \n",
       "1    5fa859611bd2a03f4641a0e0   \n",
       "2    5fa87aad1bd2a03f4641a130   \n",
       "3    5fa8fb591bd2a03f4641a1e9   \n",
       "4    5fa8fc3d1bd2a03f4641a1f7   \n",
       "..                        ...   \n",
       "189  5fdc8542ff3b76b96dd79dab   \n",
       "190  5fde2cd81c7ca18763114afb   \n",
       "191  5fdf86151c7ca18763114b2a   \n",
       "192  5fdfabe51c7ca18763114b5e   \n",
       "193  5fdfea6b1c7ca18763114b9f   \n",
       "\n",
       "                                              bookings  \\\n",
       "0    [{'_id': '5fa8267c1bd2a03f4641a09a', 'start': ...   \n",
       "1    [{'_id': '5fa859611bd2a03f4641a0e1', 'start': ...   \n",
       "2    [{'_id': '5fa87aad1bd2a03f4641a131', 'start': ...   \n",
       "3    [{'_id': '5fa8fb591bd2a03f4641a1ea', 'start': ...   \n",
       "4    [{'_id': '5fa8fc3d1bd2a03f4641a1f8', 'start': ...   \n",
       "..                                                 ...   \n",
       "189  [{'_id': '5fdc8542ff3b76b96dd79dac', 'start': ...   \n",
       "190  [{'_id': '5fde2cd81c7ca18763114afc', 'start': ...   \n",
       "191  [{'_id': '5fdf86151c7ca18763114b2b', 'start': ...   \n",
       "192  [{'_id': '5fdfabe51c7ca18763114b5f', 'start': ...   \n",
       "193  [{'_id': '5fdfea6b1c7ca18763114ba0', 'start': ...   \n",
       "\n",
       "                         room                             date  \\\n",
       "0    5f5bd5fafc7a3450ea06e81c 2020-11-08 17:10:20.328000+00:00   \n",
       "1    5f5cc739fc7a3450ea06e838 2020-11-08 20:47:29.186000+00:00   \n",
       "2    5f5b4fdd400b9fbfbe0b8ec3 2020-11-08 23:09:33.878000+00:00   \n",
       "3    5f5bd5fafc7a3450ea06e81c 2020-11-09 08:18:33.344000+00:00   \n",
       "4    5f5cc50bfc7a3450ea06e834 2020-11-09 08:22:21.433000+00:00   \n",
       "..                        ...                              ...   \n",
       "189  5f5cc781fc7a3450ea06e839 2020-12-18 10:32:34.679000+00:00   \n",
       "190  5f5cc50bfc7a3450ea06e834 2020-12-19 16:39:52.105000+00:00   \n",
       "191  5f5cc50bfc7a3450ea06e834 2020-12-20 17:12:53.116000+00:00   \n",
       "192  5f5cc50bfc7a3450ea06e834 2020-12-20 19:54:13.157000+00:00   \n",
       "193  5f5bd5fafc7a3450ea06e81c 2020-12-21 00:20:59.897000+00:00   \n",
       "\n",
       "                          _id  Sede  aulaId  aulaDes  capienza  poloDes  \\\n",
       "0    5f5b4fdd400b9fbfbe0b8e94   1.0     1.0     69.0      10.0     15.0   \n",
       "1    5f5b4fdd400b9fbfbe0b8e95   1.0     2.0     25.0      24.0     15.0   \n",
       "2    5f5b4fdd400b9fbfbe0b8e96   1.0     3.0     12.0      12.0      2.0   \n",
       "3    5f5b4fdd400b9fbfbe0b8e97   1.0     4.0     16.0      10.0      2.0   \n",
       "4    5f5b4fdd400b9fbfbe0b8e98   1.0     7.0     35.0      76.0     18.0   \n",
       "..                        ...   ...     ...      ...       ...      ...   \n",
       "189                       NaN   NaN     NaN      NaN       NaN      NaN   \n",
       "190                       NaN   NaN     NaN      NaN       NaN      NaN   \n",
       "191                       NaN   NaN     NaN      NaN       NaN      NaN   \n",
       "192                       NaN   NaN     NaN      NaN       NaN      NaN   \n",
       "193                       NaN   NaN     NaN      NaN       NaN      NaN   \n",
       "\n",
       "                                date scheduleType schedules  \n",
       "0   2020-10-02 19:17:16.414000+00:00           []        []  \n",
       "1   2020-12-15 15:38:27.918000+00:00           []        []  \n",
       "2   2020-10-29 10:10:23.875000+00:00           []        []  \n",
       "3   2020-12-15 10:17:12.238000+00:00           []        []  \n",
       "4   2020-12-16 10:04:16.903000+00:00           []        []  \n",
       "..                               ...          ...       ...  \n",
       "189                              NaT          NaN       NaN  \n",
       "190                              NaT          NaN       NaN  \n",
       "191                              NaT          NaN       NaN  \n",
       "192                              NaT          NaN       NaN  \n",
       "193                              NaT          NaN       NaN  \n",
       "\n",
       "[194 rows x 13 columns]"
      ]
     },
     "execution_count": 24,
     "metadata": {},
     "output_type": "execute_result"
    }
   ],
   "source": [
    "result\n",
    "#the result is dataframe fro the roomschedule dataframe which has extra columns extracted from the corresponding rooms columns \n",
    "# the we get information such capienza from the rooms dataframe in order to gain more deatures during the feature selection stage"
   ]
  },
  {
   "cell_type": "code",
   "execution_count": 30,
   "id": "beneficial-banana",
   "metadata": {
    "id": "beneficial-banana"
   },
   "outputs": [],
   "source": [
    "\n",
    "res = rs.merge(rooms, how='inner', left_on=['room'], right_on=['_id'])\n",
    "# this creates an inner join similar to that of SQL, we get data from 2 tables based on a given common column(foreign key)"
   ]
  },
  {
   "cell_type": "code",
   "execution_count": 31,
   "id": "forty-joint",
   "metadata": {
    "id": "forty-joint",
    "outputId": "5e207efd-1655-4487-f8ca-a95d3055d652"
   },
   "outputs": [],
   "source": [
    "res.to_csv('room_booking.csv')\n",
    "#export file to csv format "
   ]
  },
  {
   "cell_type": "code",
   "execution_count": null,
   "id": "limiting-threshold",
   "metadata": {
    "id": "limiting-threshold"
   },
   "outputs": [],
   "source": []
  }
 ],
 "metadata": {
  "colab": {
   "name": "DA Project 2.ipynb",
   "provenance": []
  },
  "kernelspec": {
   "display_name": "Python 3",
   "language": "python",
   "name": "python3"
  },
  "language_info": {
   "codemirror_mode": {
    "name": "ipython",
    "version": 3
   },
   "file_extension": ".py",
   "mimetype": "text/x-python",
   "name": "python",
   "nbconvert_exporter": "python",
   "pygments_lexer": "ipython3",
   "version": "3.6.12"
  }
 },
 "nbformat": 4,
 "nbformat_minor": 5
}
